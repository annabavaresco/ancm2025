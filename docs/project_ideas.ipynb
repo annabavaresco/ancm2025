{
 "cells": [
  {
   "cell_type": "markdown",
   "id": "8a806e2e",
   "metadata": {},
   "source": [
    "# Project Ideas\n",
    "\n",
    "Below, you will find some resources useful to find inspiration for your projects, divided by topics. \n",
    "\n",
    "## Language\n",
    "\n",
    "Here are some recent, interesting papers about modelling human language with deep-learning models:\n",
    "\n",
    "* [_A two-dimensional space of linguistic representations shared across individuals_](https://pmc.ncbi.nlm.nih.gov/articles/PMC12139866/), Tuckute et al., 2025;\n",
    "* [_Distributed sensitivity to syntax and semantics throughout the language network_](https://direct.mit.edu/jocn/article/36/7/1427/120796/Distributed-Sensitivity-to-Syntax-and-Semantics), Shain et al., 2024;\n",
    "* [_Hierarchical dynamic coding coordinates speech comprehension in the human brain_](https://pmc.ncbi.nlm.nih.gov/articles/PMC11042271/), Gwilliams et al., 2025;\n",
    "* [_Large language models can segment narrative events similarly to humans_](https://link.springer.com/article/10.3758/s13428-024-02569-z), Michelmann et al., 2025.\n",
    "\n",
    "Besides these specific papers, you may be interested in the work conducted in the labs by these professors:\n",
    "* [Evelina Fedorenko](https://www.evlab.mit.edu/), MIT;\n",
    "* [Jean-Rémi King](https://kingjr.github.io/), Meta AI;\n",
    "* [David Poeppel](https://wp.nyu.edu/poeppellab/), NYU;\n",
    "* [Mariya Toneva](https://mtoneva.com/group.html), MPI Saarbrücken;\n",
    "* [Jack Gallant](https://gallantlab.org/), UC Berkley.\n",
    "\n",
    "\n",
    "## Vision\n",
    "\n",
    "Recent interesting papers:\n",
    "* [_A large-scale examination of inductive biases shaping high-level visual representation in brains and machines_](https://www.nature.com/articles/s41467-024-53147-y), Conwell et al., 2024;\n",
    "* [_Dimensions underlying the representational alignment of deep neural networks with humans_](https://www.nature.com/articles/s42256-025-01041-7), Mahner et al., 2025;\n",
    "* [_Brain diffusion for visual exploration: Cortical discovery using large scale generative models_](https://proceedings.neurips.cc/paper_files/paper/2023/hash/ef0c0a23a1a8219c4fc381614664df3e-Abstract-Conference.html), Luo et al., 2023;\n",
    "* [_Assessing the Alignment of Popular CNNs to the Brain for Valence Appraisal_](https://arxiv.org/abs/2509.21384), 2025.\n",
    "\n",
    "Influential labs:\n",
    "* [Nikolaus Kriegeskorte](https://kriegeskortelab.zuckermaninstitute.columbia.edu/people/nikolaus-kriegeskorte), Columbia University;\n",
    "* [Talia Konkle](https://konklab.fas.harvard.edu/), Harvard University;\n",
    "* [Leila Wehbe](http://cs.cmu.edu/~lwehbe/group.html), Carnergie Mellon;\n",
    "* [Martin Hebart](https://hebartlab.com/), Justus Liebig University and MPI Leipzig;\n",
    "* [Hans op de Beeck](https://www.hoplab.be/), KU Leuven;\n",
    "* [Iris Groen](https://sites.google.com/view/irisgroen), UvA.\n",
    "\n",
    "## Multimodality – Vision and Language\n",
    "\n"
   ]
  }
 ],
 "metadata": {
  "language_info": {
   "name": "python"
  }
 },
 "nbformat": 4,
 "nbformat_minor": 5
}
