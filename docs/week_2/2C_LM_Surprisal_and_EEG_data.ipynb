{
  "cells": [
    {
      "cell_type": "markdown",
      "metadata": {
        "id": "ki8bLkXGxqVL"
      },
      "source": [
        "# 2C - Language Model Surprisal and EEG Data\n",
        "[![View filled on Github](https://img.shields.io/static/v1.svg?logo=github&label=Repo&message=View%20On%20Github&color=lightgrey)](https://github.com/annabavaresco/ancm2024/blob/main/docs/week_2/2C_LM_Surprisal_and_EEG_data.ipynb)\n",
        "[![View filled in Colab](https://colab.research.google.com/assets/colab-badge.svg)](https://colab.research.google.com/github/annabavaresco/ancm2024/blob/main/docs/week_2/2C_LM_Surprisal_and_EEG_data.ipynb)\n",
        "\n",
        "_by Jelle Zuidema (September 2022), with edits by Anna Bavaresco (July 2024)_\n",
        "\n",
        "---\n",
        "This notebook is based on Rasyan Ahmed's master thesis code."
      ]
    },
    {
      "cell_type": "markdown",
      "metadata": {
        "id": "CoDBPx13afhg"
      },
      "source": [
        "Today we'll be working on the EEG data collected by _[Broderick et al., 2018](https://www.sciencedirect.com/science/article/pii/S0960982218301465)_ while participants were listening to an audiobook. The authors were interested in the N400 component of event-related potentials.\n",
        "\n",
        "What's special about N400? It has consistently been shown to signal _surprisal_, which can roughly be defined as 'incongruence with the surrounding context'. To illustrate, if we read a sentence broccoli with a word that is completely out of context -- and therefore _surprising_ -- our brains will signal this with a spike in the N400 component.\n",
        "\n",
        "Broderick and colleagues, however, move away from this incongrous word paradigm and look at words during natural speech comprehension more in general. In particular, they ivestigate whether N400 is tracking the contextual semantic content of words while they are being processed. How do they do this? They construct word vectors representing how semantically dissimilar a word is to the preceding context, and then regress these vectors against EEG data.\n",
        "\n",
        "Let's briefly zoom in into how the authors computed these 'dissimilarity vectors'. Let's consider the sentence \"Mary saw the dog as she walked past the garden\" (this is a made-up example for illustration purposes). If we want to compute the dissimilarity vector for a word -- let's say 'dog' -- as the authors did, we should first compute word embeddings for all the words in the sentence using word2vec and then do the following:\n",
        "1. Select the word embedding corresponding to 'dog'\n",
        "2. Compute the average of the word embeddings from all the words preceding 'dog' (so here 'Mary', 'saw', 'the')\n",
        "3. Compute the Pearson correlation between the 'dog' vector and the average vector (form point 2)\n",
        "4. Subtract the correlation from 1 (because we're trying to compute _dissimilarity_ and not _similarity_)\n",
        "\n",
        "This semantic dissimilarity measure can be considered as a 'representation of the meaning added to a sentence by that word'.\n",
        "\n",
        "We'll look at how these vectors are used to learn us something about EEG responses later on in this notebook. For now, let's focus on _semantic dissimilarity_ and how it was operationalised by Broderick and colleagues.\n",
        "\n",
        "###**QUESTION 1**\n",
        "Are there are any shortcomings with using word2vec vectors? Do you think that the contextualised vectors that we can get from more recent language models might be more suitable for the purpose? (⚠️_Spoiler alert:_ all these rhetorical questions seem to presuppose a 'yes')"
      ]
    },
    {
      "cell_type": "markdown",
      "metadata": {
        "id": "oDC12-CLBLzb"
      },
      "source": [
        "## Importing libraries and downloading data\n",
        "\n",
        "Here we're simply importing some libraries and downloading the `.zip` files with the data that we're going to use in this lab. Just run the cells below for now, you'll find out what you have downloaded in the next sections."
      ]
    },
    {
      "cell_type": "code",
      "execution_count": null,
      "metadata": {
        "id": "KIENrDchBVnE"
      },
      "outputs": [],
      "source": [
        "%%capture\n",
        "! pip install mne\n",
        "! pip install -q scipy"
      ]
    },
    {
      "cell_type": "code",
      "execution_count": null,
      "metadata": {
        "id": "JEXizmx3BeO0"
      },
      "outputs": [],
      "source": [
        "import scipy.io as sio\n",
        "import numpy as np\n",
        "import mne\n",
        "from mne.decoding import ReceptiveField\n",
        "from sklearn.model_selection import KFold\n",
        "from sklearn.preprocessing import StandardScaler\n",
        "from tqdm.auto import tqdm\n",
        "import random\n",
        "import matplotlib.pyplot as plt\n",
        "import numpy as np\n",
        "import math\n",
        "from os.path import join"
      ]
    },
    {
      "cell_type": "markdown",
      "metadata": {
        "id": "_n4p4mVLx03k"
      },
      "source": [
        "We are going to be working with the following files in this lab. In order to access them, click on the links below and then hit the \"add shortcut to Google Drive\" button.\n",
        "- [Subject19.zip](https://drive.google.com/file/d/1ZWopKDEf1FPDciVPATcUrAkF8XY0WgK6/view?usp=sharing)\n",
        "- [Stimuli.zip](https://drive.google.com/file/d/1c04Z8YNUjoRkGfNu2zGQDM6gFpRs-Cab/view?usp=sharing)\n",
        "- [vectors.zip](https://drive.google.com/file/d/1yF3PK94RFRxZyMuQHHOk8iS7yZMMJ15j/view?usp=sharing)\n",
        "- [results.zip](https://drive.google.com/file/d/1lXNhl3WUK48Juj0oA-itR_tkONdlK2G4/view?usp=sharing)"
      ]
    },
    {
      "cell_type": "code",
      "execution_count": null,
      "metadata": {
        "colab": {
          "base_uri": "https://localhost:8080/"
        },
        "id": "3z3YmCyHxl5-",
        "outputId": "f48df7fc-20fa-47c0-abd8-bd15ad5dd21a"
      },
      "outputs": [
        {
          "name": "stdout",
          "output_type": "stream",
          "text": [
            "Mounted at /content/drive\n"
          ]
        }
      ],
      "source": [
        "from google.colab import drive\n",
        "drive.mount('/content/drive')"
      ]
    },
    {
      "cell_type": "markdown",
      "metadata": {
        "id": "e-iP30t1Klwp"
      },
      "source": [
        "Let's now unzip the files. You will need to update the following paths based on where the files are located in your Drive."
      ]
    },
    {
      "cell_type": "code",
      "execution_count": null,
      "metadata": {
        "id": "mFEe5SOiKVya"
      },
      "outputs": [],
      "source": [
        "!unzip -qq '/content/drive/MyDrive/PhD/ANCM/Lab Materials 2024/Subject19.zip'\n",
        "!unzip -qq '/content/drive/MyDrive/PhD/ANCM/Lab Materials 2024/Stimuli.zip'\n",
        "!unzip -qq '/content/drive/MyDrive/PhD/ANCM/Lab Materials 2024/vectors.zip'\n",
        "!unzip -qq '/content/drive/MyDrive/PhD/ANCM/Lab Materials 2024/results.zip'"
      ]
    },
    {
      "cell_type": "markdown",
      "metadata": {
        "id": "hV4ztfj6_Jrq"
      },
      "source": [
        "#Loading and preprocessing the EEG data"
      ]
    },
    {
      "cell_type": "markdown",
      "metadata": {
        "id": "y-XhmPF-oEhD"
      },
      "source": [
        "The following functions will make sure that the EEG data and the dissimilarity vectors we have unzipped are now properly loaded. More specifically, the functions below allow us to specify a list of participants and the model used to compute the word embeddings. For each participant, the functions will return:\n",
        "* the 128-channel EEG data (where channels correspond to the number of electrodes placed on subjects' sculps)\n",
        "* the 2-channel EEG data corresponding to the mastoids\n",
        "* the dissimilarity vectors\n",
        "\n",
        "Are you wondering what mastoids are?👀 They are bones that are part of our skulls, located behind our ears. Why do we care about them here? 🤔 They are important for data _re-referencing_. We'll learn more about re-refering later on in the notebook.\n",
        "\n",
        "   "
      ]
    },
    {
      "cell_type": "code",
      "execution_count": null,
      "metadata": {
        "cellView": "form",
        "id": "oqRz37Mk_XzX"
      },
      "outputs": [],
      "source": [
        "#@title Helper functions for loading data\n",
        "\n",
        "def load_subject_data(subj_id, method, normalised_sim, freq):\n",
        "  raw = []\n",
        "  ms = []\n",
        "  dis_vector = []\n",
        "        #print('Load eeg & dissimilarity values: subject: ', sub, \"/\", len(subs), end = \"\\r\", flush=True)\n",
        "\n",
        "  for run in range(1,21): # for each run\n",
        "    data = sio.loadmat(f\"Subject{subj_id}/Subject{subj_id}_Run{run}.mat\" )\n",
        "    raw_run = data['eegData'].T\n",
        "    ms_run = data['mastoids'].T\n",
        "    words = sio.loadmat(f\"Stimuli/Text/Run{run}.mat\")\n",
        "\n",
        "    # create list of word similaritys in order and normalise.\n",
        "    norm_flat_sim = [simz * normalised_sim for sentence in sim[run-1] for simz in sentence]\n",
        "\n",
        "    if len(norm_flat_sim)!= len(words['onset_time']):\n",
        "      print(subj_id, run, len(norm_flat_sim), len(words['onset_time']))\n",
        "\n",
        "            # create empty vector of same size as the eeg\n",
        "    dis_vector_run = np.zeros((1, raw_run.shape[1]))\n",
        "\n",
        "    if method == 'random_loc':\n",
        "      random_locations = random.sample(range(0,raw_run.shape[1]), len(norm_flat_sim))\n",
        "\n",
        "\n",
        "    # for each word, find its onset, and then place it there in the empty vector.\n",
        "    for j in range(len(norm_flat_sim)):\n",
        "      if method == 'random_loc':\n",
        "        on = random_locations[j]\n",
        "      else:\n",
        "        on = int(np.floor(words['onset_time'][j] * freq))\n",
        "\n",
        "      dis_vector_run[0][on] = (1-norm_flat_sim[j])\n",
        "\n",
        "    raw.append(raw_run)\n",
        "    ms.append(ms_run)\n",
        "    dis_vector.append(dis_vector_run)\n",
        "\n",
        "  return raw, ms, dis_vector\n",
        "\n",
        "def load_eeg_and_disimilarlity_vector(sim, method, subjects, freq, norm):\n",
        "\n",
        "    # flatten the similarity values (from 3D list to 1D list)\n",
        "\n",
        "    flat_sim = [word for sentence in [sentence for run in sim for sentence in run] for word in sentence]\n",
        "\n",
        "    # normalize to the values of the broderick similarity values.\n",
        "    normalised_sim = norm/np.mean(flat_sim)\n",
        "\n",
        "    #\n",
        "    raw_subs = []\n",
        "    ms_subs = []\n",
        "    dis_vector_subs = []\n",
        "\n",
        "    for sub in tqdm(subjects):  # for each subject\n",
        "        raw, ms, dis_vector = load_subject_data(sub, method, normalised_sim, freq)\n",
        "        raw_subs.append(raw)\n",
        "        ms_subs.append(ms)\n",
        "        dis_vector_subs.append(dis_vector)\n",
        "\n",
        "    print('Data successfully loaded!')\n",
        "    return(dis_vector_subs, ms_subs, raw_subs)\n"
      ]
    },
    {
      "cell_type": "code",
      "execution_count": null,
      "metadata": {
        "colab": {
          "base_uri": "https://localhost:8080/",
          "height": 121,
          "referenced_widgets": [
            "54c56a905bc54d68b3f16bc74ccd1fde",
            "27dc346270374bfb96ff231a41afb46c",
            "e098cd4f04b14e2c98ab46dba908b5c5",
            "3b7003bf21364ceebe75b7a01fb42b6b",
            "ec8497b82c5f40c8963b6da70d458aa2",
            "a2701ebae54646c5bae24d6bd55e6ba7",
            "25436375380249c09f8b964617964bb2",
            "7070bcf3df22490b96ac3668476d6599",
            "2695babc42994ebba19f654e04e45313",
            "3ceaad90c9004fc5a984db34252a83bc",
            "55d771caf80147a68965b42ee2c7f068"
          ]
        },
        "id": "MvS3y9EASYY2",
        "outputId": "c4c40d07-55d7-410e-ec80-97b95399c92e"
      },
      "outputs": [
        {
          "data": {
            "application/vnd.jupyter.widget-view+json": {
              "model_id": "54c56a905bc54d68b3f16bc74ccd1fde",
              "version_major": 2,
              "version_minor": 0
            },
            "text/plain": [
              "  0%|          | 0/1 [00:00<?, ?it/s]"
            ]
          },
          "metadata": {},
          "output_type": "display_data"
        },
        {
          "name": "stderr",
          "output_type": "stream",
          "text": [
            "<ipython-input-5-1991b1a14af6>:33: DeprecationWarning: Conversion of an array with ndim > 0 to a scalar is deprecated, and will error in future. Ensure you extract a single element from your array before performing this operation. (Deprecated NumPy 1.25.)\n",
            "  on = int(np.floor(words['onset_time'][j] * freq))\n"
          ]
        },
        {
          "name": "stdout",
          "output_type": "stream",
          "text": [
            "Data successfully loaded!\n"
          ]
        }
      ],
      "source": [
        "vector = 'bert_4_False' # use word likehoods obtained from a Bert model, with access to 4 prior words and no access to future context\n",
        "norm_val = 0.33820258789060476\n",
        "subs = [19]\n",
        "sim = np.load(join('vectors', f\"{vector}.npy\"), allow_pickle=True)\n",
        "sfreq = 128\n",
        "dis_vector, raw_mastoids, raw_eeg = load_eeg_and_disimilarlity_vector(sim, vector, subs, sfreq, norm_val)\n"
      ]
    },
    {
      "cell_type": "markdown",
      "metadata": {
        "id": "EbJoE54BmdpJ"
      },
      "source": [
        "Great, now we have our raw data and distance vectors successfully loaded. Next, we'll do some data preprocessing. We'll be using the [MNE](https://mne.tools/stable/index.html) library for this. The main preprocessing operations which will be performed by the following functions are:\n",
        "* _re-referencing_: EEG electrodes record voltages that are relative to other voltages (recorded at other electrodes). In this sense, we are lacking a single 'reference' to interpret the voltages measured by the electrodes. This is why we need to do some _re-referencing_ of the EEG data. But what should be our point of reference? A common choice -- which we'll be implementing here -- is to use the mastoids as reference electrodes, because the brain activity they capture is somehow 'weaker' than the brain activity recorded by elsewhere-located electrodes\n",
        "* _filtering_: we'll be filtering out the signal outside the 1-8Hz bandwidth\n",
        "\n",
        "\n",
        "Are you curious about the MNE functions used in the following functions? Then check out the [MNE documentation](https://mne.tools/stable/index.html)!"
      ]
    },
    {
      "cell_type": "code",
      "execution_count": null,
      "metadata": {
        "cellView": "form",
        "id": "6sIGRIZCxABs"
      },
      "outputs": [],
      "source": [
        "#@title Helper function for preprocessing\n",
        "\n",
        "def process_eeg(dis_vector, raw_mastoids, raw_eeg, var_limit):\n",
        "\n",
        "    raws = np.empty((20,), dtype=object)\n",
        "    ms = np.empty((20,), dtype=object)\n",
        "    dv = np.empty((20,), dtype=object)\n",
        "    filtered = np.empty((20,), dtype=object)\n",
        "    data = {}\n",
        "    for i in range(1,21):\n",
        "\n",
        "        # load data of the prev cell\n",
        "        raws[i-1] = raw_eeg[i-1].T\n",
        "        ms[i-1] = raw_mastoids[i-1].T\n",
        "        dv[i-1] = dis_vector[i-1].T\n",
        "\n",
        "\n",
        "        # add mastoids as the last two channels.\n",
        "        raw = np.concatenate((raw_eeg[i-1],raw_mastoids[i-1]))\n",
        "\n",
        "\n",
        "        montage = mne.channels.make_standard_montage('biosemi128');\n",
        "        montage.ch_names = montage.ch_names + ['M1', 'M2']\n",
        "        montage.dig = montage.dig + [montage.dig[4],montage.dig[5]]\n",
        "\n",
        "\n",
        "        # info = mne.create_info(montage.ch_names[:130], sfreq, 'eeg', montage=montage)\n",
        "        info = mne.create_info(montage.ch_names[:130], sfreq, 'eeg', verbose=False)\n",
        "        raw = mne.io.RawArray(raw, info)\n",
        "        raw.add_channels\n",
        "\n",
        "\n",
        "        # remove the standard reference mne sets upon it.\n",
        "        raw, _ = mne.set_eeg_reference(raw, [])\n",
        "\n",
        "        # reference instead using the average of the last two channels (mastoids)\n",
        "        raw, _ = mne.set_eeg_reference(raw, montage.ch_names[128:130])\n",
        "\n",
        "        # bandpass filter the data without the mastoids\n",
        "\n",
        "        raw = raw.drop_channels(montage.ch_names[128:130])\n",
        "        raw = raw.filter(1,8)\n",
        "\n",
        "        test = raw.get_data()\n",
        "\n",
        "        var = [np.var(channel[1280:-1280]) for channel in test]\n",
        "        raw.info['bads'] = (np.array(montage.ch_names[:128])[np.array(var[:128])>var_limit]).tolist()\n",
        "\n",
        "        raw.interpolate_bads()\n",
        "\n",
        "        filt = raw.get_data()\n",
        "        filtered[i-1] = filt[:128].T\n",
        "\n",
        "    data['raw'] = raws\n",
        "    data['ms'] = ms\n",
        "    data['dv'] = dv\n",
        "    data['filtered'] = filtered\n",
        "\n",
        "\n",
        "    return data\n"
      ]
    },
    {
      "cell_type": "code",
      "execution_count": null,
      "metadata": {
        "id": "dj-oc0WoIoEc"
      },
      "outputs": [],
      "source": [
        "# remove the capture command if you want the function to print all its very verbose outputs :)\n",
        "%%capture\n",
        "data = process_eeg(dis_vector[0], raw_mastoids[0], raw_eeg[0], 100000)"
      ]
    },
    {
      "cell_type": "markdown",
      "metadata": {
        "id": "_VbMd6TFJSqh"
      },
      "source": [
        "Now that we have loaded and processed the data, it is time to have a look at the original EEG measurements and the effects of preprocessing 👀 The original data is available as `data['raw']`. The filter data can be accessed as `data['filterd']`.\n"
      ]
    },
    {
      "cell_type": "code",
      "execution_count": null,
      "metadata": {
        "id": "QzFUTTXyJwMV"
      },
      "outputs": [],
      "source": [
        "eeg_before = data['raw']\n",
        "eeg_after = data['filtered']"
      ]
    },
    {
      "cell_type": "markdown",
      "metadata": {
        "id": "oOPZfWQGPP8o"
      },
      "source": [
        "Before plotting, let's have a look at the data dimensionality and make sure we know what each dimension corresponds to."
      ]
    },
    {
      "cell_type": "code",
      "execution_count": null,
      "metadata": {
        "colab": {
          "base_uri": "https://localhost:8080/"
        },
        "id": "xZXi6ubMPPcU",
        "outputId": "d6d6c58b-74d1-4e38-c484-3785f0ff44ed"
      },
      "outputs": [
        {
          "name": "stdout",
          "output_type": "stream",
          "text": [
            "(20,)\n",
            "(23257, 128)\n"
          ]
        }
      ],
      "source": [
        "print(eeg_before.shape)\n",
        "print(eeg_before[1].shape)"
      ]
    },
    {
      "cell_type": "markdown",
      "metadata": {
        "id": "SU-7lNZjPeoP"
      },
      "source": [
        "Here:\n",
        "* 20 represents the number of trials (segments) that each participant undertook\n",
        "* 128 is the number of channels (electrodes)\n",
        "* 2285 are the time points per trial"
      ]
    },
    {
      "cell_type": "markdown",
      "metadata": {
        "id": "6adZ6mr1Re2a"
      },
      "source": [
        "### **QUESTION 2**\n",
        "\n",
        "Choose the EEG responses for one trial and plot them for one channel (of your choice) before and after preprocessing. Then describe, in rough outline, what preprocessing has done to the signal.\n",
        "\n",
        "_Hint_: you might want to focus on a subset of time points to have a \"closer look\" at the signal"
      ]
    },
    {
      "cell_type": "markdown",
      "metadata": {
        "id": "Ji0dzliHGSI-"
      },
      "source": [
        "## Training the TRFs (or not)\n",
        "\n",
        "Now that our data is preprocessed, let's see how we can use it to get a cognitive model. Our goal is to obtain _temporal response functions_ (TRFs)*. TRFs are linear models that describe the relationship between stimuli and responses. In our case, the stimuli are words and the responses are the EEG recordings. Therefore, we are looking for a function that links EEG responses to the presented words -- or better, their _surprisal_.\n",
        "\n",
        "But how do we get these TRFs? The authors trained some ridge regression models to predict EEG responses based on distance vectors. If you are curious about the specific steps that can be use to train these regression models, you can have a look at the code below, but its detailed understanding is not important for this assignment.\n",
        "\n",
        "Since training the models can be quite time consuming, we'll skip this step and look at the TRFs by loading some pre-computed coefficients.\n",
        "\n",
        "\n",
        "---\n",
        "\\*If you find the concept of a TRF a bit hard to grasp, I would recommend looking at [this](https://eelbrain.readthedocs.io/en/stable/auto_examples/temporal-response-functions/trf_intro.html#sphx-glr-auto-examples-temporal-response-functions-trf-intro-py) resource, which has some nice and clear visualisations.\n"
      ]
    },
    {
      "cell_type": "code",
      "execution_count": null,
      "metadata": {
        "cellView": "form",
        "id": "8gBXMa5aMeVX"
      },
      "outputs": [],
      "source": [
        "#@title Helper functions for training the TRF\n",
        "\n",
        "def TRF(subject_data, start=0, end=1, save=None, shuffle=False, second_folder = 'randoms/'):\n",
        "\n",
        "    for run in tqdm(range(start,end)):\n",
        "\n",
        "        #print('run', run)\n",
        "        scores_subs=[]\n",
        "        coefs_subs=[]\n",
        "        error_subs=[]\n",
        "        for sub in tqdm(subs):\n",
        "\n",
        "            # run value as random seed. makes reproduction possible if we need extra info later on.\n",
        "            random.seed(run)\n",
        "            data = subject_data[subs.index(sub)]\n",
        "            dv = np.vstack(data['dv'])\n",
        "\n",
        "            if shuffle:\n",
        "                # create a list of all disimilarity values.\n",
        "                ddv = np.array([d for d in dv if d>0])\n",
        "\n",
        "                # shuffle this list.\n",
        "                random.shuffle(ddv)\n",
        "\n",
        "                # for each non 0 in real dissimilarity vector\n",
        "                i = 0\n",
        "                for j in range(len(dv)):\n",
        "                    if dv[j] > 0:\n",
        "\n",
        "                        # add the i element of the shuffled list of dissimilarity values.\n",
        "                        dv[j] = ddv[i]\n",
        "                        i+=1\n",
        "\n",
        "            Y = np.vstack(data['filterd'])\n",
        "\n",
        "            # normalisation method. basicly just subtracts the average and devides by the standerd deviations\n",
        "            scaler = StandardScaler()           # initalise scaler\n",
        "            scaler.fit(Y)                       # finds the average and sd\n",
        "            Y = scaler.transform(Y)      # scales each value.\n",
        "\n",
        "\n",
        "            #Initialize the model\n",
        "            rf = ReceptiveField(tmin, tmax, sfreq, feature_names=['envelope'],\n",
        "                                estimator=1., scoring='corrcoef')\n",
        "\n",
        "            # calculate how many items there are between the delays\n",
        "            n_delays = int((tmax - tmin) * sfreq) + 2\n",
        "\n",
        "            # setup 5fold CV\n",
        "            n_splits = 5\n",
        "            cv = KFold(n_splits)\n",
        "\n",
        "            DV = np.array([dv[i-78:i,] for i in range(78,dv.shape[0])])\n",
        "\n",
        "            # Simple linear regression for each time step using 5fold CV\n",
        "            coefs = np.zeros((n_splits, n_channels, n_delays))\n",
        "            scores = np.zeros((n_splits, n_channels))\n",
        "\n",
        "            err= []\n",
        "            # Iterate through splits, fit the model, and predict/test on held-out data\n",
        "            for ii, (train, test) in enumerate(cv.split(dv)):  # split the data 4:1 (train:test) for each different way.\n",
        "                #print('split %s / %s' % (ii + 1, n_splits))\n",
        "\n",
        "                rf.fit(dv[train], Y[train])\n",
        "\n",
        "                scores[ii] = rf.score(dv[test], Y[test])\n",
        "                # coef_ is shape (n_outputs, n_features, n_delays). we only have 1 feature\n",
        "                coefs[ii] = rf.coef_[:, 0, :]\n",
        "\n",
        "                # calculate errors\n",
        "\n",
        "                W = np.flip(coefs[ii],1) # define Weights as the flipped coefs\n",
        "                #print(test)\n",
        "\n",
        "                test=test[test>=78] # remove the first 78 values, as we dont have full data for them\n",
        "                test=test -78\n",
        "                #print(test)\n",
        "                DV2 = DV[test] # select only the dissimilarity values for the test set\n",
        "                real = Y[test]\n",
        "\n",
        "                DVs = np.sum(DV2,1)\n",
        "                mask = [s for s in range(0,len(DV2)) if DVs[s]!=0]\n",
        "                DV2 = DV2[mask] # remove all test cases with 0 dv values\n",
        "                real = real[mask]\n",
        "\n",
        "                pred = np.array([W @ s for s in DV2]).squeeze() # calculate predicted value.\n",
        "\n",
        "                m = np.mean(real,0)\n",
        "                SStot = np.sum((real-m)**2,0)\n",
        "                SSreg = np.sum((pred-m)**2,0)\n",
        "                SSres = np.sum((real-pred)**2,0)\n",
        "                r2 = 1-(SSres/SStot)\n",
        "                errors = np.array([SStot,SSreg,SSres,r2])\n",
        "\n",
        "                err.append(errors)\n",
        "\n",
        "            times = rf.delays_ / float(rf.sfreq)\n",
        "\n",
        "            scores_subs.append(scores)\n",
        "            coefs_subs.append(coefs)\n",
        "            error_subs.append(err)\n",
        "\n",
        "        if shuffle==True and save and ((end-start)>1):\n",
        "            # save results\n",
        "            saveFunc(loc, run_string , scores_subs, coefs_subs, error_subs, length)\n",
        "\n",
        "    return(scores_subs, coefs_subs, error_subs) # save last run results\n",
        "\n",
        "def train(vector, preprocess = 100000, backup = 'pearson', start=0, end=1, save=True, shuffle=False):\n",
        "\n",
        "    if vector == 'random_loc':\n",
        "        similarity_location = vector_loc +  backup + '.npy'\n",
        "    else:\n",
        "        similarity_location = vector_loc +  vector + '.npy'\n",
        "\n",
        "    # loads the similarity values\n",
        "    sim = np.load(similarity_location, allow_pickle=True)\n",
        "\n",
        "    dis_vector, raw_mastoids, raw_eeg = load_eeg_and_disimilarlity_vector(sim, vector)\n",
        "    data = process_eeg(dis_vector, raw_mastoids, raw_eeg, preprocess)\n",
        "\n",
        "    scores_subs, coefs_subs, error_subs = TRF(data)\n",
        "    #scores_subs, coefs_subs, error_subs = TRF(data, start=3, end=100, save=save, shuffle=True, second_folder)\n",
        "\n",
        "    if end-start > 1:\n",
        "        combine_multi_runs()\n",
        "\n",
        "    if save:\n",
        "        if vector == 'pearson':\n",
        "            run_string = vector + '_' + str(preprocess)\n",
        "\n",
        "        elif vector[:4] == 'bert':\n",
        "            run_string = vector + '_' + str(preprocess)\n",
        "\n",
        "        elif vector == 'static':\n",
        "            run_string = vector + '_' + str(preprocess)\n",
        "\n",
        "        elif vector == 'random_loc':\n",
        "            run_string = vector + '(' + backup + \")\" + '_' + str(preprocess)\n",
        "\n",
        "        elif shuffle:\n",
        "            run_string = 'shuffle(' + vector + ')' + '_' + str(preprocess)\n",
        "\n",
        "        saveFunc(results_folder, run_string, scores_subs, coefs_subs, error_subs, end-start)\n",
        "\n",
        "    return(scores_subs, coefs_subs, error_subs)\n",
        "\n",
        "#scores_subz, coefs_subz, error_subz = train(vector_loc, method,  999999999999999999)\n"
      ]
    },
    {
      "cell_type": "markdown",
      "metadata": {
        "id": "Jdbr2r6AqSiz"
      },
      "source": [
        "## Plotting the obtained TRF coefficients\n",
        "\n",
        "Now we'll be having a look at some plots which will help us understand which TRFs have been learned by the models."
      ]
    },
    {
      "cell_type": "code",
      "execution_count": null,
      "metadata": {
        "cellView": "form",
        "id": "UqoyS8_lNuJ4"
      },
      "outputs": [],
      "source": [
        "#@title Helper function for plotting\n",
        "\n",
        "def plot_curve(ch, sd, ax, title, plot_data, multi_coefs_avg, multi_coefs_std):\n",
        "    i = 0\n",
        "    j = 0\n",
        "    for tup in plot_data:\n",
        "        if tup[3] == \"single\":\n",
        "            ax.plot(times,coefs[i][ch], label= tup[1])\n",
        "            i+=1\n",
        "\n",
        "        elif tup[3] == \"multi\":\n",
        "            ax.plot(times, multi_coefs_avg[j][ch], label = tup[1] + \" mean\")\n",
        "            ax.fill_between(times,multi_coefs_avg[j][ch]-multi_coefs_std[j][ch]*sd, multi_coefs_avg[j][ch]+multi_coefs_std[j][ch]*sd, alpha=0.2, label =tup[1] + \" \"+ str(sd) + \"sd\")\n",
        "            j+=0\n",
        "    ax.axhline(0, ls='--', color='black')\n",
        "    #ax.set_ylim(-0.09 ,0.05)\n",
        "    ax.set(title=title)"
      ]
    },
    {
      "cell_type": "markdown",
      "metadata": {
        "id": "Xoy0ttyuLmtQ"
      },
      "source": [
        "The next two cells will simply set some parameters and import the right coefficients. More specifically, we'll be importing coefficients for the original Broderick models and for a model computed from BERT-derived word embeddings."
      ]
    },
    {
      "cell_type": "code",
      "execution_count": null,
      "metadata": {
        "id": "c104F8YLOY67"
      },
      "outputs": [],
      "source": [
        "# select data to load\n",
        "sub = np.array([19])\n",
        "sun = [1]\n",
        "plot_data = []\n",
        "\n",
        "results_folder = 'results/'\n",
        "\n",
        "# start/ end time of relevant time period of word onset.\n",
        "tmin = 0\n",
        "tmax = 0.6\n",
        "\n",
        "# Broderick\n",
        "plot_data.append((\"pearson_100000.npy\",'Broderick (1-8Hz)',\"b\", \"single\"))\n",
        "\n",
        "# static\n",
        "#plot_data.append((\"static_100000.npy\",\"static\",\"brown\", \"single\"))\n",
        "\n",
        "# bert_4_false\n",
        "plot_data.append((\"bert_4_False_100000.npy\",\"BERT4\", \"red\", \"single\"))"
      ]
    },
    {
      "cell_type": "code",
      "execution_count": null,
      "metadata": {
        "id": "p7jt3FDCPGDX"
      },
      "outputs": [],
      "source": [
        "coefs = []\n",
        "scores = []\n",
        "\n",
        "for tup in plot_data:\n",
        "\n",
        "    if tup[3] == \"single\":\n",
        "        # load the data of the subjects you want to include + square scores to get r2\n",
        "        coef = np.load(f'{results_folder}coefs/{tup[0]}')[sub-1]\n",
        "        score = np.load(f'{results_folder}scores/{tup[0]}')[sub-1]**2\n",
        "        score = np.nan_to_num(score)\n",
        "\n",
        "        # mean out the subject axis\n",
        "        coef = coef.mean(axis=0)\n",
        "        score = score.mean(axis=0)\n",
        "\n",
        "        # mean out the cross validation axis\n",
        "        coef = coef.mean(axis=0)\n",
        "        score = score.mean(axis=0)\n",
        "\n",
        "        coefs.append(coef)\n",
        "        scores.append(score)\n",
        "\n",
        "n_channels = coefs[0].shape[0]\n",
        "n_points =  coefs[0].shape[1]\n",
        "\n",
        "# define a n_points long array that defines what time a coefficent belongs to.\n",
        "# used as the x axis in plotmtrfs.\n",
        "times = np.array(range(0,n_points))/ 128\n",
        "\n",
        "montage =  mne.channels.make_standard_montage('biosemi128')\n",
        "info = mne.create_info(montage.ch_names[:n_channels], n_channels, 'eeg')"
      ]
    },
    {
      "cell_type": "markdown",
      "metadata": {
        "id": "uAFzYF07MbjW"
      },
      "source": [
        "Now we'll indeed be plotting the TRFs for the two different models of word surprisal."
      ]
    },
    {
      "cell_type": "code",
      "execution_count": null,
      "metadata": {
        "colab": {
          "base_uri": "https://localhost:8080/",
          "height": 480
        },
        "id": "73_QXyq4441U",
        "outputId": "a3d86e57-e86e-4f37-d9bf-35cb8ba8e767"
      },
      "outputs": [
        {
          "data": {
            "image/png": "[encoded data removed]",
            "text/plain": [
              "<Figure size 640x480 with 6 Axes>"
            ]
          },
          "metadata": {},
          "output_type": "display_data"
        }
      ],
      "source": [
        "sd = 1.6\n",
        "pl =1\n",
        "nrow = 3\n",
        "ncol = 2\n",
        "widths = [0,3,0.1,0.1]\n",
        "heights = [0,33,0.33,0.33]\n",
        "# gr = grid.GridSpec(wspace= , hspace= width_ratios= , height_ratios= )\n",
        "gri = {'wspace':0.5,'hspace':0.5,'width_ratios':[1,0.1]}\n",
        "fig, axes = plt.subplots(nrow,ncol, squeeze = False, gridspec_kw = gri)\n",
        "\n",
        "plot_curve(84,sd,axes[0,0],'fz', plot_data, coefs, scores)\n",
        "plot_curve(0,sd,axes[1,0],'cz', plot_data, coefs, scores)\n",
        "plot_curve(20,sd,axes[2,0],'pz', plot_data, coefs, scores)\n",
        "axes[0,1].axis(\"off\")\n",
        "axes[1,1].axis(\"off\")\n",
        "axes[2,1].axis(\"off\")\n",
        "handles, labels = axes[0,0].get_legend_handles_labels()\n",
        "fig.legend(handles, labels, loc='upper right', bbox_to_anchor=(1, 1))\n",
        "fig.show();\n"
      ]
    },
    {
      "cell_type": "markdown",
      "metadata": {
        "id": "jB2JZwUxNG_r"
      },
      "source": [
        "Are you wondering what 'fz', 'cz' and 'pz' mean? They are standard ways of referring to EEG electrodes. The first letter refers to the brain lobe where the electrode is positioned (F for _frontal_, C for _central_, P for _parietal_). The second letter Z stands for 'zero' and indicates that the electrodes are placed on the midline sagittal plane of the skull. But why are we only looking at the Z-positioned electrodes and not at the other ones? The Z electrodes are often used as a point of reference."
      ]
    },
    {
      "cell_type": "markdown",
      "metadata": {
        "id": "9nNckNwzSdqq"
      },
      "source": [
        "### **QUESTION 3**\n",
        "\n",
        "a) Study the temporal response functions you've just plotted for Broderick's model of word surprisal versus the BERT-based model (with 4 words prior context). Do you observe the N400 component (negative polarization approximately 400 ms after word onset) in some of the channels? Do you observe this polarisation for the same channels across models? Do you find differences between the two models?\n",
        "\n",
        "b ) Now consider the results you get with a model that simply assigns uniform surprisal values to all words (i.e., it does not distinguish between suprising or unsurpring words). You can find the data for this model in the `static_100000.npy` file. Does that model change your assessment of the performance of the Broderick and BERT models?\n",
        "\n",
        "\n",
        "Please write down your answers to all the questions in this assignment in a dedicated PDF. There is no page/word limit, but you are encouraged to keep your answers clear and concise. \n",
        "\n"
      ]
    }
  ],
  "metadata": {
    "colab": {
      "provenance": [],
      "toc_visible": true
    },
    "kernelspec": {
      "display_name": "Python 3",
      "name": "python3"
    },
    "language_info": {
      "name": "python"
    },
    "widgets": {
      "application/vnd.jupyter.widget-state+json": {
        "25436375380249c09f8b964617964bb2": {
          "model_module": "@jupyter-widgets/controls",
          "model_module_version": "1.5.0",
          "model_name": "DescriptionStyleModel",
          "state": {
            "_model_module": "@jupyter-widgets/controls",
            "_model_module_version": "1.5.0",
            "_model_name": "DescriptionStyleModel",
            "_view_count": null,
            "_view_module": "@jupyter-widgets/base",
            "_view_module_version": "1.2.0",
            "_view_name": "StyleView",
            "description_width": ""
          }
        },
        "2695babc42994ebba19f654e04e45313": {
          "model_module": "@jupyter-widgets/controls",
          "model_module_version": "1.5.0",
          "model_name": "ProgressStyleModel",
          "state": {
            "_model_module": "@jupyter-widgets/controls",
            "_model_module_version": "1.5.0",
            "_model_name": "ProgressStyleModel",
            "_view_count": null,
            "_view_module": "@jupyter-widgets/base",
            "_view_module_version": "1.2.0",
            "_view_name": "StyleView",
            "bar_color": null,
            "description_width": ""
          }
        },
        "27dc346270374bfb96ff231a41afb46c": {
          "model_module": "@jupyter-widgets/controls",
          "model_module_version": "1.5.0",
          "model_name": "HTMLModel",
          "state": {
            "_dom_classes": [],
            "_model_module": "@jupyter-widgets/controls",
            "_model_module_version": "1.5.0",
            "_model_name": "HTMLModel",
            "_view_count": null,
            "_view_module": "@jupyter-widgets/controls",
            "_view_module_version": "1.5.0",
            "_view_name": "HTMLView",
            "description": "",
            "description_tooltip": null,
            "layout": "IPY_MODEL_a2701ebae54646c5bae24d6bd55e6ba7",
            "placeholder": "​",
            "style": "IPY_MODEL_25436375380249c09f8b964617964bb2",
            "value": "100%"
          }
        },
        "3b7003bf21364ceebe75b7a01fb42b6b": {
          "model_module": "@jupyter-widgets/controls",
          "model_module_version": "1.5.0",
          "model_name": "HTMLModel",
          "state": {
            "_dom_classes": [],
            "_model_module": "@jupyter-widgets/controls",
            "_model_module_version": "1.5.0",
            "_model_name": "HTMLModel",
            "_view_count": null,
            "_view_module": "@jupyter-widgets/controls",
            "_view_module_version": "1.5.0",
            "_view_name": "HTMLView",
            "description": "",
            "description_tooltip": null,
            "layout": "IPY_MODEL_3ceaad90c9004fc5a984db34252a83bc",
            "placeholder": "​",
            "style": "IPY_MODEL_55d771caf80147a68965b42ee2c7f068",
            "value": " 1/1 [00:02&lt;00:00,  2.77s/it]"
          }
        },
        "3ceaad90c9004fc5a984db34252a83bc": {
          "model_module": "@jupyter-widgets/base",
          "model_module_version": "1.2.0",
          "model_name": "LayoutModel",
          "state": {
            "_model_module": "@jupyter-widgets/base",
            "_model_module_version": "1.2.0",
            "_model_name": "LayoutModel",
            "_view_count": null,
            "_view_module": "@jupyter-widgets/base",
            "_view_module_version": "1.2.0",
            "_view_name": "LayoutView",
            "align_content": null,
            "align_items": null,
            "align_self": null,
            "border": null,
            "bottom": null,
            "display": null,
            "flex": null,
            "flex_flow": null,
            "grid_area": null,
            "grid_auto_columns": null,
            "grid_auto_flow": null,
            "grid_auto_rows": null,
            "grid_column": null,
            "grid_gap": null,
            "grid_row": null,
            "grid_template_areas": null,
            "grid_template_columns": null,
            "grid_template_rows": null,
            "height": null,
            "justify_content": null,
            "justify_items": null,
            "left": null,
            "margin": null,
            "max_height": null,
            "max_width": null,
            "min_height": null,
            "min_width": null,
            "object_fit": null,
            "object_position": null,
            "order": null,
            "overflow": null,
            "overflow_x": null,
            "overflow_y": null,
            "padding": null,
            "right": null,
            "top": null,
            "visibility": null,
            "width": null
          }
        },
        "54c56a905bc54d68b3f16bc74ccd1fde": {
          "model_module": "@jupyter-widgets/controls",
          "model_module_version": "1.5.0",
          "model_name": "HBoxModel",
          "state": {
            "_dom_classes": [],
            "_model_module": "@jupyter-widgets/controls",
            "_model_module_version": "1.5.0",
            "_model_name": "HBoxModel",
            "_view_count": null,
            "_view_module": "@jupyter-widgets/controls",
            "_view_module_version": "1.5.0",
            "_view_name": "HBoxView",
            "box_style": "",
            "children": [
              "IPY_MODEL_27dc346270374bfb96ff231a41afb46c",
              "IPY_MODEL_e098cd4f04b14e2c98ab46dba908b5c5",
              "IPY_MODEL_3b7003bf21364ceebe75b7a01fb42b6b"
            ],
            "layout": "IPY_MODEL_ec8497b82c5f40c8963b6da70d458aa2"
          }
        },
        "55d771caf80147a68965b42ee2c7f068": {
          "model_module": "@jupyter-widgets/controls",
          "model_module_version": "1.5.0",
          "model_name": "DescriptionStyleModel",
          "state": {
            "_model_module": "@jupyter-widgets/controls",
            "_model_module_version": "1.5.0",
            "_model_name": "DescriptionStyleModel",
            "_view_count": null,
            "_view_module": "@jupyter-widgets/base",
            "_view_module_version": "1.2.0",
            "_view_name": "StyleView",
            "description_width": ""
          }
        },
        "7070bcf3df22490b96ac3668476d6599": {
          "model_module": "@jupyter-widgets/base",
          "model_module_version": "1.2.0",
          "model_name": "LayoutModel",
          "state": {
            "_model_module": "@jupyter-widgets/base",
            "_model_module_version": "1.2.0",
            "_model_name": "LayoutModel",
            "_view_count": null,
            "_view_module": "@jupyter-widgets/base",
            "_view_module_version": "1.2.0",
            "_view_name": "LayoutView",
            "align_content": null,
            "align_items": null,
            "align_self": null,
            "border": null,
            "bottom": null,
            "display": null,
            "flex": null,
            "flex_flow": null,
            "grid_area": null,
            "grid_auto_columns": null,
            "grid_auto_flow": null,
            "grid_auto_rows": null,
            "grid_column": null,
            "grid_gap": null,
            "grid_row": null,
            "grid_template_areas": null,
            "grid_template_columns": null,
            "grid_template_rows": null,
            "height": null,
            "justify_content": null,
            "justify_items": null,
            "left": null,
            "margin": null,
            "max_height": null,
            "max_width": null,
            "min_height": null,
            "min_width": null,
            "object_fit": null,
            "object_position": null,
            "order": null,
            "overflow": null,
            "overflow_x": null,
            "overflow_y": null,
            "padding": null,
            "right": null,
            "top": null,
            "visibility": null,
            "width": null
          }
        },
        "a2701ebae54646c5bae24d6bd55e6ba7": {
          "model_module": "@jupyter-widgets/base",
          "model_module_version": "1.2.0",
          "model_name": "LayoutModel",
          "state": {
            "_model_module": "@jupyter-widgets/base",
            "_model_module_version": "1.2.0",
            "_model_name": "LayoutModel",
            "_view_count": null,
            "_view_module": "@jupyter-widgets/base",
            "_view_module_version": "1.2.0",
            "_view_name": "LayoutView",
            "align_content": null,
            "align_items": null,
            "align_self": null,
            "border": null,
            "bottom": null,
            "display": null,
            "flex": null,
            "flex_flow": null,
            "grid_area": null,
            "grid_auto_columns": null,
            "grid_auto_flow": null,
            "grid_auto_rows": null,
            "grid_column": null,
            "grid_gap": null,
            "grid_row": null,
            "grid_template_areas": null,
            "grid_template_columns": null,
            "grid_template_rows": null,
            "height": null,
            "justify_content": null,
            "justify_items": null,
            "left": null,
            "margin": null,
            "max_height": null,
            "max_width": null,
            "min_height": null,
            "min_width": null,
            "object_fit": null,
            "object_position": null,
            "order": null,
            "overflow": null,
            "overflow_x": null,
            "overflow_y": null,
            "padding": null,
            "right": null,
            "top": null,
            "visibility": null,
            "width": null
          }
        },
        "e098cd4f04b14e2c98ab46dba908b5c5": {
          "model_module": "@jupyter-widgets/controls",
          "model_module_version": "1.5.0",
          "model_name": "FloatProgressModel",
          "state": {
            "_dom_classes": [],
            "_model_module": "@jupyter-widgets/controls",
            "_model_module_version": "1.5.0",
            "_model_name": "FloatProgressModel",
            "_view_count": null,
            "_view_module": "@jupyter-widgets/controls",
            "_view_module_version": "1.5.0",
            "_view_name": "ProgressView",
            "bar_style": "success",
            "description": "",
            "description_tooltip": null,
            "layout": "IPY_MODEL_7070bcf3df22490b96ac3668476d6599",
            "max": 1,
            "min": 0,
            "orientation": "horizontal",
            "style": "IPY_MODEL_2695babc42994ebba19f654e04e45313",
            "value": 1
          }
        },
        "ec8497b82c5f40c8963b6da70d458aa2": {
          "model_module": "@jupyter-widgets/base",
          "model_module_version": "1.2.0",
          "model_name": "LayoutModel",
          "state": {
            "_model_module": "@jupyter-widgets/base",
            "_model_module_version": "1.2.0",
            "_model_name": "LayoutModel",
            "_view_count": null,
            "_view_module": "@jupyter-widgets/base",
            "_view_module_version": "1.2.0",
            "_view_name": "LayoutView",
            "align_content": null,
            "align_items": null,
            "align_self": null,
            "border": null,
            "bottom": null,
            "display": null,
            "flex": null,
            "flex_flow": null,
            "grid_area": null,
            "grid_auto_columns": null,
            "grid_auto_flow": null,
            "grid_auto_rows": null,
            "grid_column": null,
            "grid_gap": null,
            "grid_row": null,
            "grid_template_areas": null,
            "grid_template_columns": null,
            "grid_template_rows": null,
            "height": null,
            "justify_content": null,
            "justify_items": null,
            "left": null,
            "margin": null,
            "max_height": null,
            "max_width": null,
            "min_height": null,
            "min_width": null,
            "object_fit": null,
            "object_position": null,
            "order": null,
            "overflow": null,
            "overflow_x": null,
            "overflow_y": null,
            "padding": null,
            "right": null,
            "top": null,
            "visibility": null,
            "width": null
          }
        }
      }
    }
  },
  "nbformat": 4,
  "nbformat_minor": 0
}
